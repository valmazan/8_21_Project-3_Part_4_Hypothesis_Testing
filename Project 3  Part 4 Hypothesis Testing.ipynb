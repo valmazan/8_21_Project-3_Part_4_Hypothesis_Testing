{
 "cells": [
  {
   "cell_type": "markdown",
   "id": "a1bca792",
   "metadata": {},
   "source": [
    "# Project 3 - Part 4: Hypothesis Testing"
   ]
  },
  {
   "cell_type": "markdown",
   "id": "b39fd8e1",
   "metadata": {},
   "source": [
    "# Business Problem"
   ]
  },
  {
   "cell_type": "markdown",
   "id": "fb95ea5b",
   "metadata": {},
   "source": [
    "For this project, you have been hired to produce a MySQL database on Movies from a subset of IMDB's publicly available dataset. Ultimately, you will use this database to analyze what makes a movie successful, and will provide recommendations to the stakeholder on how to make a successful movie."
   ]
  },
  {
   "cell_type": "markdown",
   "id": "5950158f",
   "metadata": {},
   "source": [
    "## Part 4 "
   ]
  },
  {
   "cell_type": "markdown",
   "id": "62dfcf25",
   "metadata": {},
   "source": [
    " For part 4 of the project, you will be using your MySQL database from part 3 to answer meaningful questions for your stakeholder. They want you to use your hypothesis testing and statistics knowledge to answer 3 questions about what makes a successful movie."
   ]
  },
  {
   "cell_type": "markdown",
   "id": "0f2270f5",
   "metadata": {},
   "source": [
    "#### Questions to Answer"
   ]
  },
  {
   "cell_type": "markdown",
   "id": "591f8504",
   "metadata": {},
   "source": [
    "#### The stakeholder's first question is: does the MPAA rating of a movie (G/PG/PG-13/R) affect how much revenue the movie generates?\n",
    "\n",
    " - They want you to perform a statistical test to get a mathematically-supported answer.\n",
    " - They want you to report if you found a significant difference between ratings.\n",
    "  - If so, what was the p-value of your analysis?\n",
    "  - And which rating earns the most revenue?\n",
    " - They want you to prepare a visualization that supports your finding.\n",
    " \n",
    " - It is then up to you to think of 2 additional hypotheses to test that your stakeholder may want to know.\n",
    "\n",
    "Some example hypotheses you could test:\n",
    "\n",
    " - Do movies that are over 2.5 hours long earn more revenue than movies that are 1.5 hours long (or less)?\n",
    " \n",
    " - Do movies released in 2020 earn less revenue than movies released in 2018?\n",
    "\n",
    "  - How do the years compare for movie ratings?\n",
    "\n",
    " - Do some movie genres earn more revenue than others?\n",
    "\n",
    " - Are some genres higher rated than others?\n",
    " - etc."
   ]
  },
  {
   "cell_type": "markdown",
   "id": "bd2a8e89",
   "metadata": {},
   "source": [
    "## Specifications\n",
    "\n",
    "#### Your Data\n",
    "\n",
    "- A critical first step for this assignment will be to retrieve additional movie data to add to your SQL database.\n",
    "  - You will want to use the TMDB API again and extract data for additional years.\n",
    "  - You may want to review the optional lesson from Week 1 on \"Using Glob to Load Many Files\" to load and combine all of your API results for each year.\n",
    "- However, trying to extract the TMDB data for all movies from 2000-2022 could take >24 hours!\n",
    "- To address this issue, you should EITHER:\n",
    "   - Define a smaller (but logical) period of time to use for your analyses (e.g., last 10 years, 2010-2019 (pre-pandemic, etc).\n",
    "   - OR coordinate with cohort-mates and divide the API calls so that you can all download the data for a smaller number of years and then share your downloaded JSON data."
   ]
  },
  {
   "cell_type": "markdown",
   "id": "73484d33",
   "metadata": {},
   "source": [
    "## Deliverables"
   ]
  },
  {
   "cell_type": "markdown",
   "id": "23027f04",
   "metadata": {},
   "source": [
    "- You should use the same project repository you have been using for Parts 1-3 (for your portfolio).\n",
    "  - Create a new notebook in your project repository just for the hypothesis testing (like \"Part 4 - Hypothesis Testing.ipynb\")\n",
    "  - Make sure the results and visualization for all 3 hypotheses are in your notebook.\n",
    "\n",
    "Please submit the link to your GitHub repository for this assignment."
   ]
  },
  {
   "cell_type": "markdown",
   "id": "686a99db",
   "metadata": {},
   "source": [
    "---"
   ]
  },
  {
   "cell_type": "code",
   "execution_count": null,
   "id": "fe8c3746",
   "metadata": {},
   "outputs": [],
   "source": []
  },
  {
   "cell_type": "code",
   "execution_count": null,
   "id": "7764d90c",
   "metadata": {},
   "outputs": [],
   "source": []
  },
  {
   "cell_type": "code",
   "execution_count": null,
   "id": "17bb553b",
   "metadata": {},
   "outputs": [],
   "source": []
  },
  {
   "cell_type": "code",
   "execution_count": null,
   "id": "021634d9",
   "metadata": {},
   "outputs": [],
   "source": []
  },
  {
   "cell_type": "code",
   "execution_count": null,
   "id": "4c5e5856",
   "metadata": {},
   "outputs": [],
   "source": []
  },
  {
   "cell_type": "code",
   "execution_count": null,
   "id": "f555a272",
   "metadata": {},
   "outputs": [],
   "source": []
  },
  {
   "cell_type": "code",
   "execution_count": null,
   "id": "42382eb1",
   "metadata": {},
   "outputs": [],
   "source": []
  },
  {
   "cell_type": "markdown",
   "id": "09c2deca",
   "metadata": {},
   "source": []
  }
 ],
 "metadata": {
  "kernelspec": {
   "display_name": "Python 3 (ipykernel)",
   "language": "python",
   "name": "python3"
  },
  "language_info": {
   "codemirror_mode": {
    "name": "ipython",
    "version": 3
   },
   "file_extension": ".py",
   "mimetype": "text/x-python",
   "name": "python",
   "nbconvert_exporter": "python",
   "pygments_lexer": "ipython3",
   "version": "3.9.15"
  },
  "toc": {
   "base_numbering": 1,
   "nav_menu": {},
   "number_sections": false,
   "sideBar": true,
   "skip_h1_title": false,
   "title_cell": "Table of Contents",
   "title_sidebar": "Contents",
   "toc_cell": false,
   "toc_position": {},
   "toc_section_display": true,
   "toc_window_display": false
  }
 },
 "nbformat": 4,
 "nbformat_minor": 5
}
